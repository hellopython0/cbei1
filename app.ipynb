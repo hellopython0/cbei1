{
 "cells": [
  {
   "cell_type": "code",
   "execution_count": 11,
   "metadata": {},
   "outputs": [
    {
     "name": "stdout",
     "output_type": "stream",
     "text": [
      "\n",
      "\n",
      "\n"
     ]
    }
   ],
   "source": [
    "n,m = list(map(int,input().split()))\n",
    "rl = []\n",
    "ll = []\n",
    "for _ in range(n):\n",
    "    t = list(map(int,input().split()))\n",
    "    ll.append(t)\n",
    "for _ in range(n):\n",
    "    t = list(map(int,input().split()))\n",
    "    rl.append(t)\n",
    "for l in ll:\n",
    "    r = list(map(int,input().split()))\n",
    "    for i in zip(l,r):\n",
    "        print(sum(i),end = ' ')\n",
    "    print()"
   ]
  }
 ],
 "metadata": {
  "kernelspec": {
   "display_name": "Python 3",
   "language": "python",
   "name": "python3"
  },
  "language_info": {
   "codemirror_mode": {
    "name": "ipython",
    "version": 3
   },
   "file_extension": ".py",
   "mimetype": "text/x-python",
   "name": "python",
   "nbconvert_exporter": "python",
   "pygments_lexer": "ipython3",
   "version": "3.10.4"
  },
  "orig_nbformat": 4
 },
 "nbformat": 4,
 "nbformat_minor": 2
}
